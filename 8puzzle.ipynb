{
 "cells": [
  {
   "cell_type": "markdown",
   "id": "260f58f5",
   "metadata": {},
   "source": [
    "# PRACTICAL 2"
   ]
  },
  {
   "cell_type": "markdown",
   "id": "63e7e3c8",
   "metadata": {},
   "source": [
    "## 8-Puzzle"
   ]
  },
  {
   "cell_type": "code",
   "execution_count": 36,
   "id": "07c52316-abd3-40e1-a659-5983f3616723",
   "metadata": {},
   "outputs": [],
   "source": [
    "import numpy as np\n",
    "import pandas as pd\n",
    "# import random\n",
    "import heapq\n",
    "\n",
    "# lis = [1,2,3,4,5,6,7,8,0]\n",
    "# random.shuffle(lis)\n",
    "# lis"
   ]
  },
  {
   "cell_type": "code",
   "execution_count": 37,
   "id": "e9f0b416-eeb7-4ddd-b808-a7fac856dfa3",
   "metadata": {},
   "outputs": [],
   "source": [
    "# arr = np.array(lis).reshape(3,3)\n",
    "# print(arr)\n"
   ]
  },
  {
   "cell_type": "code",
   "execution_count": 38,
   "id": "9bb4df0c",
   "metadata": {},
   "outputs": [],
   "source": [
    "# initial_state = arr.tolist()\n",
    "# initial_state"
   ]
  },
  {
   "cell_type": "code",
   "execution_count": 39,
   "id": "fbdf2eb4",
   "metadata": {},
   "outputs": [],
   "source": [
    "# Initial state of the 8-puzzle (0 represents the blank tile)\n",
    "initial_state = [\n",
    "    [1, 2, 3],\n",
    "    [4, 6, 0],\n",
    "    [7, 5, 8]\n",
    "]\n",
    "# Goal state of the 8-puzzle\n",
    "goal_state = [\n",
    "    [1, 2, 3],\n",
    "    [4, 5, 6],\n",
    "    [7, 8, 0]\n",
    "]"
   ]
  },
  {
   "cell_type": "code",
   "execution_count": null,
   "id": "882f780a",
   "metadata": {},
   "outputs": [
    {
     "name": "stdout",
     "output_type": "stream",
     "text": [
      "Solution found:\n",
      "[1, 2, 3]\n",
      "[4, 6, 0]\n",
      "[7, 5, 8]\n",
      "\n",
      "[1, 2, 3]\n",
      "[4, 0, 6]\n",
      "[7, 5, 8]\n",
      "\n",
      "[1, 2, 3]\n",
      "[4, 5, 6]\n",
      "[7, 0, 8]\n",
      "\n",
      "[1, 2, 3]\n",
      "[4, 5, 6]\n",
      "[7, 8, 0]\n",
      "\n"
     ]
    }
   ],
   "source": [
    "def find_blank_position(state):\n",
    "    for i in range(3):\n",
    "        for j in range(3):\n",
    "            if state[i][j] == 0:\n",
    "                return i, j\n",
    "\n",
    "def manhattan_distance(state, goal):\n",
    "    distance = 0\n",
    "    flat_goal = [item for row in goal for item in row] #This line flattens the 2D goal list into a single list:  flat_goal = [1, 2, 3, 4, 5, 6, 7, 8, 0]\n",
    "    for i in range(3):\n",
    "        for j in range(3):\n",
    "            if state[i][j] != 0:\n",
    "                x, y = divmod(flat_goal.index(state[i][j]), 3)  # Getting the goal index in (x,y) of the element given by state[i][j] ex: state[i][j] = 3 then find 3 in goal state and pass it's 1D index\n",
    "                distance += abs(x - i) + abs(y - j)  # The Manhattan distance for the tile to move to reach at goal index is calculated as: Vertical moves: abs(x - i) Horizontal moves: abs(y - j)\n",
    "    return distance\n",
    "\n",
    "def is_goal(state, goal):\n",
    "    return state == goal\n",
    "\n",
    "def get_neighbors(state):\n",
    "    neighbors = []\n",
    "    x, y = find_blank_position(state)\n",
    "    moves = [(-1, 0), (1, 0), (0, -1), (0, 1)] #(-1, 0): Move up (decrease row index), (1, 0): Move down (increase row index), (0, -1): Move left (decrease column index), (0, 1): Move right (increase column index).\n",
    "    for move in moves:\n",
    "        new_x, new_y = x + move[0], y + move[1]\n",
    "        if 0 <= new_x < 3 and 0 <= new_y < 3:\n",
    "            new_state = [row[:] for row in state] #This creates a deep copy of the current state. Using row[:] ensures that changes to new_state do not affect the original state\n",
    "            new_state[x][y], new_state[new_x][new_y] = new_state[new_x][new_y], new_state[x][y] # Swap the empty tile <--> neighbor tile \n",
    "            neighbors.append(new_state) # Append all possible states one by one\n",
    "    return neighbors # return all the possible states \n",
    "\n",
    "def greedy_best_first_search(state, goal):\n",
    "    priority_queue = []\n",
    "    heapq.heappush(priority_queue, (manhattan_distance(state, goal), state))\n",
    "    visited = set()\n",
    "    parent_map = {tuple(map(tuple, state)): None}  # This is used afterwards for backtracking once the state is reached\n",
    "\n",
    "    while priority_queue:\n",
    "        current_priority, current_state = heapq.heappop(priority_queue)\n",
    "        visited.add(tuple(map(tuple, current_state)))\n",
    "\n",
    "        if is_goal(current_state, goal):\n",
    "            # Backtrack to find the path\n",
    "            path = []\n",
    "            while current_state:\n",
    "                path.append(current_state)\n",
    "                current_state = parent_map[tuple(map(tuple, current_state))]  #parent_map = {\n",
    "                                                                            #     ((1, 2, 3), (5, 6, 0), (7, 8, 4)): None,\n",
    "                                                                            #     ((1, 2, 3), (5, 0, 6), (7, 8, 4)): ((1, 2, 3), (5, 6, 0), (7, 8, 4))\n",
    "                                                                            # }\n",
    "            path.reverse()\n",
    "            return path\n",
    "\n",
    "        for neighbor in get_neighbors(current_state):\n",
    "            neighbor_tuple = tuple(map(tuple, neighbor))  \n",
    "            if neighbor_tuple not in visited:\n",
    "                heapq.heappush(priority_queue, (manhattan_distance(neighbor, goal), neighbor))\n",
    "                parent_map[neighbor_tuple] = current_state\n",
    "    return None\n",
    "\n",
    "def print_puzzle(state):\n",
    "    for row in state:\n",
    "        print(row)\n",
    "    print()\n",
    "\n",
    "solution_path = greedy_best_first_search(initial_state, goal_state)\n",
    "\n",
    "if solution_path:\n",
    "    print(\"Solution found:\")\n",
    "    for step in solution_path:\n",
    "        print_puzzle(step)\n",
    "else:\n",
    "    print(\"No solution found.\")\n"
   ]
  }
 ],
 "metadata": {
  "kernelspec": {
   "display_name": "Python 3",
   "language": "python",
   "name": "python3"
  },
  "language_info": {
   "codemirror_mode": {
    "name": "ipython",
    "version": 3
   },
   "file_extension": ".py",
   "mimetype": "text/x-python",
   "name": "python",
   "nbconvert_exporter": "python",
   "pygments_lexer": "ipython3",
   "version": "3.13.1"
  }
 },
 "nbformat": 4,
 "nbformat_minor": 5
}
