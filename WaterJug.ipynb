{
 "cells": [
  {
   "cell_type": "markdown",
   "metadata": {},
   "source": [
    "# PRACTICAL 3"
   ]
  },
  {
   "cell_type": "markdown",
   "metadata": {},
   "source": [
    "## Water Jug Problem"
   ]
  },
  {
   "cell_type": "code",
   "execution_count": 21,
   "metadata": {},
   "outputs": [],
   "source": [
    "from collections import defaultdict"
   ]
  },
  {
   "cell_type": "code",
   "execution_count": 22,
   "metadata": {},
   "outputs": [],
   "source": [
    "jug1, jug2, aim = 4, 3, 2"
   ]
  },
  {
   "cell_type": "code",
   "execution_count": 23,
   "metadata": {},
   "outputs": [],
   "source": [
    "visited = defaultdict(lambda: False)"
   ]
  },
  {
   "cell_type": "code",
   "execution_count": 24,
   "metadata": {},
   "outputs": [
    {
     "name": "stdout",
     "output_type": "stream",
     "text": [
      "Steps: \n",
      "0 0\n",
      "4 0\n",
      "4 3\n",
      "0 3\n",
      "3 0\n",
      "3 3\n",
      "4 2\n",
      "0 2\n",
      "2 0\n"
     ]
    },
    {
     "data": {
      "text/plain": [
       "True"
      ]
     },
     "execution_count": 24,
     "metadata": {},
     "output_type": "execute_result"
    }
   ],
   "source": [
    "def waterJugSolver(amt1, amt2):\n",
    "\n",
    "\t# Checks for our goal and\n",
    "\t# returns true if achieved.\n",
    "\tif (amt1 == aim and amt2 == 0):\n",
    "\t\tprint(amt1, amt2)\n",
    "\t\treturn True\n",
    "\n",
    "\t# Checks if we have already visited the\n",
    "\t# combination or not. If not, then it proceeds further.\n",
    "\tif visited[(amt1, amt2)] == False:\n",
    "\t\tprint(amt1, amt2)\n",
    "\n",
    "\t\t# Changes the boolean value of\n",
    "\t\t# the combination as it is visited.\n",
    "\t\tvisited[(amt1, amt2)] = True\n",
    "\n",
    "\t\t# Check for all the 6 possibilities and\n",
    "\t\t# see if a solution is found in any one of them.\n",
    "\t\treturn (waterJugSolver(0, amt2) or\n",
    "\t\t\t\twaterJugSolver(amt1, 0) or\n",
    "\t\t\t\twaterJugSolver(jug1, amt2) or\n",
    "\t\t\t\twaterJugSolver(amt1, jug2) or\n",
    "\t\t\t\twaterJugSolver(amt1 - min(amt1, jug2 - amt2), amt2 + min(amt1, jug2 - amt2)) or  # Pour Jug1 -> Jug2\n",
    "\t\t\t\twaterJugSolver(amt1 + min(amt2, jug1 - amt1), amt2 - min(amt2, jug1 - amt1)))  # Pour Jug2 -> Jug1\n",
    "\n",
    "\t# Return False if the combination is\n",
    "\t# already visited to avoid repetition otherwise\n",
    "\t# recursion will enter an infinite loop.\n",
    "\telse:\n",
    "\t\treturn False\n",
    "\n",
    "print(\"Steps: \")\n",
    "\n",
    "# Call the function and pass the\n",
    "# initial amount of water present in both jugs.\n",
    "waterJugSolver(0, 0)\n"
   ]
  },
  {
   "cell_type": "code",
   "execution_count": null,
   "metadata": {},
   "outputs": [],
   "source": []
  }
 ],
 "metadata": {
  "kernelspec": {
   "display_name": "Python 3",
   "language": "python",
   "name": "python3"
  },
  "language_info": {
   "codemirror_mode": {
    "name": "ipython",
    "version": 3
   },
   "file_extension": ".py",
   "mimetype": "text/x-python",
   "name": "python",
   "nbconvert_exporter": "python",
   "pygments_lexer": "ipython3",
   "version": "3.13.1"
  }
 },
 "nbformat": 4,
 "nbformat_minor": 2
}
